{
 "cells": [
  {
   "cell_type": "code",
   "execution_count": 5,
   "id": "4f3395e5-39ea-4740-a67b-e01f49739505",
   "metadata": {},
   "outputs": [],
   "source": [
    "ice_cream_rating = 8"
   ]
  },
  {
   "cell_type": "code",
   "execution_count": 6,
   "id": "69a8da09-e9ec-4a0a-9e7a-23e999136552",
   "metadata": {},
   "outputs": [],
   "source": [
    "sleeping_rating = 7"
   ]
  },
  {
   "cell_type": "code",
   "execution_count": 7,
   "id": "a1457388-205b-484c-9270-716405dfc5e7",
   "metadata": {},
   "outputs": [
    {
     "name": "stdin",
     "output_type": "stream",
     "text": [
      " Saana\n"
     ]
    }
   ],
   "source": [
    "first_name = input()"
   ]
  },
  {
   "cell_type": "code",
   "execution_count": 8,
   "id": "586c4249-5cf3-4187-98f6-0904bbe093c4",
   "metadata": {},
   "outputs": [
    {
     "name": "stdin",
     "output_type": "stream",
     "text": [
      " Järvinen\n"
     ]
    }
   ],
   "source": [
    "last_name = input()"
   ]
  },
  {
   "cell_type": "code",
   "execution_count": 45,
   "id": "2c7c1482-ab68-4884-ba4e-86bb746f3c44",
   "metadata": {},
   "outputs": [],
   "source": [
    "my_name = first_name, last_name"
   ]
  },
  {
   "cell_type": "code",
   "execution_count": 55,
   "id": "e2b0e275-11b7-4935-bfc5-dec3087ee505",
   "metadata": {},
   "outputs": [],
   "source": [
    "happiness_rating = 7.5"
   ]
  },
  {
   "cell_type": "code",
   "execution_count": 12,
   "id": "21fff932-e426-4de9-b9fe-352b6f48a4db",
   "metadata": {},
   "outputs": [
    {
     "data": {
      "text/plain": [
       "int"
      ]
     },
     "execution_count": 12,
     "metadata": {},
     "output_type": "execute_result"
    }
   ],
   "source": [
    "type(ice_cream_rating)"
   ]
  },
  {
   "cell_type": "code",
   "execution_count": 13,
   "id": "a2652f07-f5db-4587-901e-a26629fff209",
   "metadata": {},
   "outputs": [
    {
     "data": {
      "text/plain": [
       "tuple"
      ]
     },
     "execution_count": 13,
     "metadata": {},
     "output_type": "execute_result"
    }
   ],
   "source": [
    "type(ice_cream_rating)\n",
    "type(first_name)\n",
    "type(happiness_rating)"
   ]
  },
  {
   "cell_type": "code",
   "execution_count": 14,
   "id": "46573b9e-3a14-431e-b2f0-bb18fae8ad86",
   "metadata": {},
   "outputs": [
    {
     "data": {
      "text/plain": [
       "str"
      ]
     },
     "execution_count": 14,
     "metadata": {},
     "output_type": "execute_result"
    }
   ],
   "source": [
    "type(first_name)"
   ]
  },
  {
   "cell_type": "code",
   "execution_count": 57,
   "id": "ec7a80d6-bcbe-467f-aa4d-e099c07618ab",
   "metadata": {},
   "outputs": [
    {
     "data": {
      "text/plain": [
       "float"
      ]
     },
     "execution_count": 57,
     "metadata": {},
     "output_type": "execute_result"
    }
   ],
   "source": [
    "type(happiness_rating)"
   ]
  },
  {
   "cell_type": "markdown",
   "id": "6a721da3-b761-4fb9-a776-febe02f3e3fa",
   "metadata": {},
   "source": [
    "ice_cream_rating is a clear integer, so not a surprise. First_name I thought would be text or something, but string makes sense too. Tuple however was a new word for me, Google said it was \"an ordered set of values\"..."
   ]
  },
  {
   "cell_type": "code",
   "execution_count": 19,
   "id": "5e02871b-dbd5-4870-8f2d-2d683322289f",
   "metadata": {},
   "outputs": [
    {
     "name": "stdout",
     "output_type": "stream",
     "text": [
      "My name is Saana and I give eating ice cream a score of 8 out of 10!\n"
     ]
    }
   ],
   "source": [
    "print('My name is', first_name, 'and I give eating ice cream a score of', ice_cream_rating, 'out of 10!')"
   ]
  },
  {
   "cell_type": "code",
   "execution_count": 47,
   "id": "e79770ca-982d-4111-9360-17bf3a6a70af",
   "metadata": {},
   "outputs": [
    {
     "name": "stdout",
     "output_type": "stream",
     "text": [
      "I am Saana Järvinen and my sleeping enjoyment rating is 7 / 10!\n"
     ]
    }
   ],
   "source": [
    "print('I am', first_name, last_name, 'and my sleeping enjoyment rating is', sleeping_rating,'/ 10!')"
   ]
  },
  {
   "cell_type": "code",
   "execution_count": 56,
   "id": "1ba2ea0f-96ca-4488-9477-df88ed6f4f13",
   "metadata": {},
   "outputs": [
    {
     "name": "stdout",
     "output_type": "stream",
     "text": [
      "Based on the factors above, my happiness rating is 7.5 out of 10, or 75%\n"
     ]
    }
   ],
   "source": [
    "print('Based on the factors above, my happiness rating is', happiness_rating, 'out of 10, or 75%')"
   ]
  },
  {
   "cell_type": "markdown",
   "id": "b9bc3d55-d5b2-47cc-adfa-936969ae3fd6",
   "metadata": {},
   "source": [
    "I noticed that my happiness_rating had a comma separative value. Now that I checked the data type for happiness_rating again it says \"float\". This made much more sense, and I learned something new on the way."
   ]
  },
  {
   "cell_type": "code",
   "execution_count": null,
   "id": "7f152328-8294-4c30-9524-80c3a7ea110b",
   "metadata": {},
   "outputs": [],
   "source": []
  }
 ],
 "metadata": {
  "kernelspec": {
   "display_name": "Python 3 (ipykernel)",
   "language": "python",
   "name": "python3"
  },
  "language_info": {
   "codemirror_mode": {
    "name": "ipython",
    "version": 3
   },
   "file_extension": ".py",
   "mimetype": "text/x-python",
   "name": "python",
   "nbconvert_exporter": "python",
   "pygments_lexer": "ipython3",
   "version": "3.8.10"
  }
 },
 "nbformat": 4,
 "nbformat_minor": 5
}
